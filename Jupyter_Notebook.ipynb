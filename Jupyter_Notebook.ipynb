{
 "cells": [
  {
   "cell_type": "markdown",
   "metadata": {},
   "source": [
    "<center>\n",
    "    <img src=\"https://cf-courses-data.s3.us.cloud-object-storage.appdomain.cloud/IBMDeveloperSkillsNetwork-DS0105EN-SkillsNetwork/labs/Module2/images/SN_web_lightmode.png\" width=\"300\" alt=\"cognitiveclass.ai logo\">\n",
    "</center>\n"
   ]
  },
  {
   "cell_type": "markdown",
   "metadata": {},
   "source": [
    "# Bokang Li peer reviewed assignment\n"
   ]
  },
  {
   "cell_type": "markdown",
   "metadata": {},
   "source": [
    "In this notebook, Data Science Tools and Ecosystem are summarized."
   ]
  },
  {
   "cell_type": "markdown",
   "metadata": {},
   "source": [
    "data science languages：\n",
    "\n",
    "python,R,Julia"
   ]
  },
  {
   "cell_type": "markdown",
   "metadata": {},
   "source": [
    "data science libraries ：\n",
    "\n",
    "Tensorflow\n",
    "PyTorch\n",
    "Keras"
   ]
  },
  {
   "cell_type": "markdown",
   "metadata": {},
   "source": [
    "Python:\n",
    "High-level programming language with strong support for data analytics and scientific computing.\n",
    "\n",
    "R:\n",
    "Open-source programming language with a focus on statistical analysis and visualization.\n",
    "\n",
    "SQL:\n",
    "Domain-specific language used for managing relational databases.\n",
    "\n",
    "Apache Hadoop:\n",
    "Open-source framework for distributed storage and processing of big data.\n",
    "\n",
    "Apache Spark:\n",
    "Open-source cluster computing system used for big data processing.\n",
    "\n",
    "Tableau:\n",
    "Business intelligence and data visualization tool.\n",
    "\n",
    "Excel:\n",
    "Spreadsheet software with data analysis and visualization capabilities.\n",
    "\n",
    "MATLAB:\n",
    "Proprietary programming language and development environment for numerical computing and data visualization.\n",
    "\n",
    "KNIME:\n",
    "Open-source platform for data science workflows.\n",
    "\n",
    "RapidMiner：\n",
    "Open-source data science platform with a visual workflow designer."
   ]
  },
  {
   "cell_type": "markdown",
   "metadata": {},
   "source": [
    "## Below is a example introducing arithmetic expression "
   ]
  },
  {
   "cell_type": "code",
   "execution_count": 1,
   "metadata": {},
   "outputs": [
    {
     "data": {
      "text/plain": [
       "91"
      ]
     },
     "execution_count": 1,
     "metadata": {},
     "output_type": "execute_result"
    }
   ],
   "source": [
    "# This a simple arithmetic expression to mutiply then add integers\n",
    "(10*9)+1"
   ]
  },
  {
   "cell_type": "code",
   "execution_count": 2,
   "metadata": {},
   "outputs": [
    {
     "name": "stdout",
     "output_type": "stream",
     "text": [
      "The product of 10 and 5 is: 50\n",
      "The sum of 10 and 5 is: 15\n"
     ]
    }
   ],
   "source": [
    "num1 = 10\n",
    "num2 = 5\n",
    "product = num1 * num2\n",
    "sum = num1 + num2\n",
    "print(\"The product of\", num1, \"and\", num2, \"is:\", product)\n",
    "print(\"The sum of\", num1, \"and\", num2, \"is:\", sum)"
   ]
  },
  {
   "cell_type": "code",
   "execution_count": 3,
   "metadata": {},
   "outputs": [
    {
     "name": "stdout",
     "output_type": "stream",
     "text": [
      "2.0\n"
     ]
    }
   ],
   "source": [
    "minutes = 120\n",
    "hours = minutes / 60\n",
    "print(hours)"
   ]
  },
  {
   "cell_type": "markdown",
   "metadata": {},
   "source": [
    "Objectives of this course:\n",
    "\n",
    "Describe the Data Scientist’s tool kit which includes: Libraries & Packages, Data sets, Machine learning models, and Big Data tools   \n",
    "\n",
    "Utilize languages commonly used by data scientists like Python, R, and SQL   \n",
    "\n",
    "Demonstrate working knowledge of tools such as Jupyter notebooks and RStudio and utilize their various features    \n",
    "\n",
    "Create and manage source code for data science using Git repositories and GitHub.   "
   ]
  },
  {
   "cell_type": "markdown",
   "metadata": {},
   "source": [
    "Bokang Li"
   ]
  },
  {
   "cell_type": "code",
   "execution_count": null,
   "metadata": {},
   "outputs": [],
   "source": []
  }
 ],
 "metadata": {
  "kernelspec": {
   "display_name": "Python",
   "language": "python",
   "name": "conda-env-python-py"
  },
  "language_info": {
   "codemirror_mode": {
    "name": "ipython",
    "version": 3
   },
   "file_extension": ".py",
   "mimetype": "text/x-python",
   "name": "python",
   "nbconvert_exporter": "python",
   "pygments_lexer": "ipython3",
   "version": "3.7.12"
  }
 },
 "nbformat": 4,
 "nbformat_minor": 4
}
